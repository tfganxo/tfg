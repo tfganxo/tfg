{
 "cells": [
  {
   "cell_type": "code",
   "execution_count": 4,
   "id": "0ef6e9b0",
   "metadata": {},
   "outputs": [],
   "source": [
    "# Tratamiento de datos\n",
    "# ==============================================================================\n",
    "import numpy as np\n",
    "import pandas as pd\n",
    "from sklearn.datasets import make_blobs\n",
    "\n",
    "# Gráficos\n",
    "# ==============================================================================\n",
    "import matplotlib.pyplot as plt\n",
    "from matplotlib import style\n",
    "import seaborn as sns\n",
    "#style.use('ggplot') or plt.style.use('ggplot')\n",
    "\n",
    "# Preprocesado y modelado\n",
    "# ==============================================================================\n",
    "from sklearn.ensemble import IsolationForest\n",
    "from sklearn.pipeline import make_pipeline\n",
    "from sklearn.preprocessing import StandardScaler\n",
    "\n",
    "# Configuración warnings\n",
    "# ==============================================================================\n",
    "import warnings\n",
    "warnings.filterwarnings('ignore')\n",
    "df = pd.read_csv (r\"C:\\Users\\White\\Desktop\\tfg\\generados\\Deoutliers.csv\")"
   ]
  },
  {
   "cell_type": "code",
   "execution_count": 5,
   "id": "5973318e",
   "metadata": {},
   "outputs": [],
   "source": [
    "from sklearn.preprocessing import StandardScaler\n",
    "\n",
    "scaled_features = StandardScaler().fit_transform(df.values)\n",
    "scaled_features_df = pd.DataFrame(scaled_features, index=df.index, columns=df.columns)"
   ]
  },
  {
   "cell_type": "code",
   "execution_count": 6,
   "id": "7325d5e4",
   "metadata": {},
   "outputs": [
    {
     "name": "stdout",
     "output_type": "stream",
     "text": [
      "<class 'pandas.core.frame.DataFrame'>\n",
      "RangeIndex: 334380 entries, 0 to 334379\n",
      "Data columns (total 64 columns):\n",
      " #   Column              Non-Null Count   Dtype  \n",
      "---  ------              --------------   -----  \n",
      " 0   Src Port            334380 non-null  float64\n",
      " 1   Dst Port            334380 non-null  float64\n",
      " 2   Tot Fwd Pkts        334380 non-null  float64\n",
      " 3   Fwd Pkt Len Min     334380 non-null  float64\n",
      " 4   Fwd Pkt Len Mean    334380 non-null  float64\n",
      " 5   Bwd Pkt Len Max     334380 non-null  float64\n",
      " 6   Bwd Pkt Len Min     334380 non-null  float64\n",
      " 7   Flow Byts/s         334380 non-null  float64\n",
      " 8   Flow IAT Mean       334380 non-null  float64\n",
      " 9   Flow IAT Min        334380 non-null  float64\n",
      " 10  Fwd IAT Tot         334380 non-null  float64\n",
      " 11  Fwd IAT Mean        334380 non-null  float64\n",
      " 12  Fwd IAT Max         334380 non-null  float64\n",
      " 13  Fwd IAT Min         334380 non-null  float64\n",
      " 14  Bwd IAT Tot         334380 non-null  float64\n",
      " 15  Bwd IAT Mean        334380 non-null  float64\n",
      " 16  Bwd IAT Max         334380 non-null  float64\n",
      " 17  Bwd IAT Min         334380 non-null  float64\n",
      " 18  Bwd PSH Flags       334380 non-null  float64\n",
      " 19  Bwd URG Flags       334380 non-null  float64\n",
      " 20  Fwd Header Len      334380 non-null  float64\n",
      " 21  Bwd Header Len      334380 non-null  float64\n",
      " 22  Fwd Pkts/s          334380 non-null  float64\n",
      " 23  Bwd Pkts/s          334380 non-null  float64\n",
      " 24  Pkt Len Min         334380 non-null  float64\n",
      " 25  Pkt Len Max         334380 non-null  float64\n",
      " 26  Pkt Len Var         334380 non-null  float64\n",
      " 27  Down/Up Ratio       334380 non-null  float64\n",
      " 28  Pkt Size Avg        334380 non-null  float64\n",
      " 29  Bwd Seg Size Avg    334380 non-null  float64\n",
      " 30  Subflow Fwd Byts    334380 non-null  float64\n",
      " 31  Subflow Bwd Byts    334380 non-null  float64\n",
      " 32  Active Mean         334380 non-null  float64\n",
      " 33  Active Std          334380 non-null  float64\n",
      " 34  Active Max          334380 non-null  float64\n",
      " 35  Active Min          334380 non-null  float64\n",
      " 36  Idle Std            334380 non-null  float64\n",
      " 37  LabelA              334380 non-null  float64\n",
      " 38  Weekend             334380 non-null  float64\n",
      " 39  hx                  334380 non-null  float64\n",
      " 40  hy                  334380 non-null  float64\n",
      " 41  Src_DNS             334380 non-null  float64\n",
      " 42  Src_Ephemeral       334380 non-null  float64\n",
      " 43  Src_HTTP            334380 non-null  float64\n",
      " 44  Src_HTTPS           334380 non-null  float64\n",
      " 45  Src_Registered      334380 non-null  float64\n",
      " 46  Src_WellKnown       334380 non-null  float64\n",
      " 47  Dst_DNS             334380 non-null  float64\n",
      " 48  Dst_Ephemeral       334380 non-null  float64\n",
      " 49  Dst_HTTP            334380 non-null  float64\n",
      " 50  Dst_HTTPS           334380 non-null  float64\n",
      " 51  Dst_Registered      334380 non-null  float64\n",
      " 52  Dst_WellKnown       334380 non-null  float64\n",
      " 53  TCP                 334380 non-null  float64\n",
      " 54  UDP                 334380 non-null  float64\n",
      " 55  Src_Mininet         334380 non-null  float64\n",
      " 56  Src_OVS             334380 non-null  float64\n",
      " 57  Src_Outside         334380 non-null  float64\n",
      " 58  Dst_Metasploitable  334380 non-null  float64\n",
      " 59  Dst_Mininet         334380 non-null  float64\n",
      " 60  Dst_OVS             334380 non-null  float64\n",
      " 61  Dst_Outside         334380 non-null  float64\n",
      " 62  clasificacion       334380 non-null  float64\n",
      " 63  score               334380 non-null  float64\n",
      "dtypes: float64(64)\n",
      "memory usage: 163.3 MB\n"
     ]
    }
   ],
   "source": [
    "scaled_features_df.info()"
   ]
  },
  {
   "cell_type": "code",
   "execution_count": 7,
   "id": "f5a80653",
   "metadata": {},
   "outputs": [],
   "source": [
    "scaled_features_df.sample(10)\n",
    "scaled_features_df[\"LabelA\"]=df[\"LabelA\"]"
   ]
  },
  {
   "cell_type": "code",
   "execution_count": 8,
   "id": "dbb1378b",
   "metadata": {},
   "outputs": [
    {
     "data": {
      "text/plain": [
       "0         1\n",
       "1         1\n",
       "2         1\n",
       "3         1\n",
       "4         1\n",
       "         ..\n",
       "334375    1\n",
       "334376    1\n",
       "334377    1\n",
       "334378    1\n",
       "334379    1\n",
       "Name: LabelA, Length: 334380, dtype: int64"
      ]
     },
     "execution_count": 8,
     "metadata": {},
     "output_type": "execute_result"
    }
   ],
   "source": [
    "scaled_features_df[\"LabelA\"]"
   ]
  },
  {
   "cell_type": "code",
   "execution_count": 10,
   "id": "0435bc0e",
   "metadata": {},
   "outputs": [],
   "source": [
    "scaled_features_df=scaled_features_df.drop([\"clasificacion\"], axis=1)\n",
    "scaled_features_df=scaled_features_df.drop([\"score\"], axis=1)\n"
   ]
  },
  {
   "cell_type": "code",
   "execution_count": 11,
   "id": "337c8e2d",
   "metadata": {},
   "outputs": [],
   "source": [
    "scaled_features_df.to_csv(r\"C:\\Users\\White\\Desktop\\tfg\\generados\\scaled.csv\", index = None, header=True) \n"
   ]
  },
  {
   "cell_type": "code",
   "execution_count": null,
   "id": "510b3250",
   "metadata": {},
   "outputs": [],
   "source": []
  }
 ],
 "metadata": {
  "kernelspec": {
   "display_name": "Python 3 (ipykernel)",
   "language": "python",
   "name": "python3"
  },
  "language_info": {
   "codemirror_mode": {
    "name": "ipython",
    "version": 3
   },
   "file_extension": ".py",
   "mimetype": "text/x-python",
   "name": "python",
   "nbconvert_exporter": "python",
   "pygments_lexer": "ipython3",
   "version": "3.9.7"
  }
 },
 "nbformat": 4,
 "nbformat_minor": 5
}
